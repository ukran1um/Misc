{
 "cells": [
  {
   "cell_type": "markdown",
   "metadata": {},
   "source": [
    "### 12.03.16\n",
    "\n",
    "Please answer the following questions and document your approach to each solution. If you are not able to provide a complete solution, please describe an approach that you would use to solve the problem. We are interested in creative solution and we spend at least as much time reviewing your thought process as we do the accuracy of the solution. We care about your approach to tackling a problem. Some of the problems are open ended, may not have a solution, or may need additional information to solve.\n",
    "\n"
   ]
  },
  {
   "cell_type": "markdown",
   "metadata": {},
   "source": [
    "#### Problem 1:\n",
    "A company has 20 employees who bring 15 laptops and 10 cell phones to work.  3 devices are selected at random, what is the probability that we pick 1 cell phone and 2 laptops? \n"
   ]
  },
  {
   "cell_type": "markdown",
   "metadata": {},
   "source": [
    "#### Answer:\n",
    "This is a probability \"drawing marbles out of a bag\" type problem described by the hypergeometric distribution (I am assuming no replacement as it seems to be implied by the context). To solve this, I have \n",
    "\n",
    "$\\dfrac{{\\binom{10}{1}}  {\\binom{15}{2}}} {\\binom{25}{3}}$ \n",
    "\n",
    "Which is to say that there are a total ${\\binom{25}{3}}$ of choosing 3 items from 25, 10 ways of choosing 1 cell phone from 10, and ${\\binom{15}{2}}$ ways of choosing 2 laptops from 15. "
   ]
  },
  {
   "cell_type": "code",
   "execution_count": 1,
   "metadata": {
    "collapsed": false
   },
   "outputs": [
    {
     "data": {
      "text/plain": [
       "0.45652173913043476"
      ]
     },
     "execution_count": 1,
     "metadata": {},
     "output_type": "execute_result"
    }
   ],
   "source": [
    "from scipy import misc as sc\n",
    "sc.comb(10, 1) * sc.comb(15,2) / sc.comb(25,3)"
   ]
  },
  {
   "cell_type": "markdown",
   "metadata": {},
   "source": [
    "#### Problem 2:\n",
    "A bag contains unknown number of tiles numbered in serial order 1, 2, 3... n. You draw \n",
    "k tiles from the bag without replacement and find the maximum number etched on them\n",
    "to be m. What is your estimate of the number of tiles in the bag?"
   ]
  },
  {
   "cell_type": "markdown",
   "metadata": {},
   "source": [
    "#### Answer:\n",
    "\n",
    "Just thinking logically, my initial reaction to this question was that the best estimate would be m + some sort of adjustment. Obviosly m is biased lower since it is coming from inside of [1,n]. A natural adjustment would be based on the average \"spread\" of the numbers on the tiles I drew which would be $\\dfrac{m}{k}$. Based on those thoughts, my initial guess would be ${m + \\dfrac{m}{k}}$.\n",
    "\n",
    "I recognize this is a discrete uniform distribution so I googled around and saw that the answer is actually \n",
    "\n",
    "${m + \\dfrac{m-k}{k}}$ which is close to my initial guess only I didn't take out k from the range over which the \"spread\" was being calculated. \n",
    "\n",
    "I read through the \"German Tank Problem\" on Wikipedia to understand the derivation of the frequentist approach that I was intuitively drawn to as well as the Baysean approach but there is no need to restate those here. \n",
    "\n",
    "https://en.wikipedia.org/wiki/German_tank_problem#Minimum-variance_unbiased_estimator\n"
   ]
  },
  {
   "cell_type": "markdown",
   "metadata": {},
   "source": [
    "#### Problem 3:\n",
    "Outline an algorithm to find if two rectangles overlap. How would you compute the area if they overlap?"
   ]
  },
  {
   "cell_type": "markdown",
   "metadata": {},
   "source": [
    "#### Answer:"
   ]
  },
  {
   "cell_type": "code",
   "execution_count": 2,
   "metadata": {
    "collapsed": true
   },
   "outputs": [],
   "source": [
    "import matplotlib.pyplot as plt\n",
    "import numpy as np\n",
    "import itertools\n",
    "\n",
    "%matplotlib inline"
   ]
  },
  {
   "cell_type": "code",
   "execution_count": 3,
   "metadata": {
    "collapsed": false
   },
   "outputs": [],
   "source": [
    "#creating a quick set up to visualize the different arrangements random rectangles can take\n",
    "def random_rect():\n",
    "\n",
    "    a = np.random.randint(20,80,2)\n",
    "    b = np.random.randint(20,80,2)\n",
    "\n",
    "    orth_ab = np.array([a[1] - b[1], b[0] - a[0]])\n",
    "    \n",
    "    length = np.random.randint(20,50) #random length for the orthogonal side\n",
    "    \n",
    "    orth_ab = orth_ab * length / np.sqrt(np.dot(orth_ab, orth_ab)) #unitize orth and apply random length\n",
    "\n",
    "    c = b + orth_ab\n",
    "    d = a + orth_ab\n",
    "    return [a, b, c, d]\n",
    "\n",
    "\n",
    "def plot_2_rects(r1, r2):\n",
    "    plt.figure(figsize=(8,8))\n",
    "    plt.xlim(-20,120)\n",
    "    plt.ylim(-20,120)\n",
    "    plt.grid(True)\n",
    " \n",
    "    for i in range(4):\n",
    "        plt.plot(*zip(r1[i-1], r1[i]), color = \"r\", marker = \"o\")\n",
    "        plt.plot(*zip(r2[i-1], r2[i]), color = \"b\", marker = \"^\")\n",
    "    \n"
   ]
  },
  {
   "cell_type": "code",
   "execution_count": 4,
   "metadata": {
    "collapsed": false
   },
   "outputs": [
    {
     "data": {
      "image/png": "[encoded data removed]",
      "text/plain": [
       "<matplotlib.figure.Figure at 0x10f9b9ad0>"
      ]
     },
     "metadata": {},
     "output_type": "display_data"
    }
   ],
   "source": [
    "r1 = random_rect()\n",
    "r2 = random_rect()\n",
    "plot_2_rects(r1,r2)"
   ]
  },
  {
   "cell_type": "markdown",
   "metadata": {},
   "source": [
    "Coding this would take a bit more time but the non-trivial part of the problem is finding the coordinates of the overlapping polygon. I think the following steps would achieve it. I was inspired by the Weiler–Atherton clipping algorithm (https://en.wikipedia.org/wiki/Weiler%E2%80%93Atherton_clipping_algorithm) hovewer I am tweaking it slightly in this case to handle the case where there are no inside vertices from either rectangle (for example a cross shape). The following algorithm considers r1 and r2 as defined below and returns the area of the overlap or none if there is no overlap:\n",
    "\n",
    "rectangle 1 (r1) has corners going clockwise at (A,B,C,D) with coordinates Ax, Ay... etc\n",
    "\n",
    "rectangle 2 (r2) has corners going clockwise at (E,F,G,H) ...\n",
    "\n",
    "1. Label each corner of rectangle 1 and rectangle 2 in separate lists.\n",
    "2. Test each corner of r1 for being inside of r2. If all 4 are inside, return area of r1. Do the same test for r2 corners being in r1.\n",
    "    > (0<=AE⋅AB<=AB⋅AB)∧(0<=AE⋅AD<=AD⋅AD) is the most elegant \"inside test\" I found looking on stack exchange. In words, E is inside r1 if the perpendicular projection of the segment AE onto AB is positive and shorter than the length of AB and if the perpendicular projection of the segment AE onto AD is positive and shorter than the length of AD. AB and AD are perpendicular because its a rectangle. The soft inequality instead of the hard is needed to catch vertices that are on the perimeter of the other rectangle to capture the case of two identical aligned rectangles.\n",
    " \n",
    "3. Test each side in r1 for intersection with each side in r2 and label and record the intersection points. If no intersecting points are found return None as there is no overlap.\n",
    "4. Merge lists to find the subset of points that are the inside points and the intersections and these are the vertices of the intersecting polygon. \n",
    "5. Two overlapping convex polygons will make another convex polygon. Cycle through points clockwise to establish sides of the new polygon. Return the area of this polygon.\n",
    "    > for an \"area\" algorithm, loop through pairs of adjacent vertices once, summing the cross product which would give double the area of the needed polygon. \n",
    "    \n",
    "    > In pseudo code, (borrowed from stack exchange) assuming p is a list of inside points and vertices : \n",
    "    \n",
    "    >def area(p):\n",
    "    \n",
    "    >return 0.5 * abs(sum(x0*y1 - x1*y0 for ((x0, y0), (x1, y1)) in segments(p)))\n",
    "    \n",
    "    >def segments(p):\n",
    "    \n",
    "    >return zip(p, p[1:] + [p[0]])\n",
    "   \n",
    "\n",
    "   \n",
    "    \n",
    "    "
   ]
  },
  {
   "cell_type": "markdown",
   "metadata": {},
   "source": [
    "#### Problem 4: \n",
    "In each turn of a simulation, car A has a 10% chance of moving 5 feet forward, and a 90% chance of staying still. Similarly, in each turn of the simulation car B has a 60% chance of moving 1 foot forward, and a 40% chance of staying still. A race consists of however many turns in the simulation it takes to travel 100 feet. Write a simulation to run such a race, and run it 100 times. Count how many times car A wins and how many times car B wins. Do the numbers match up with what you would expect from a mathematical analysis of the problem?"
   ]
  },
  {
   "cell_type": "markdown",
   "metadata": {},
   "source": [
    "#### Answer:\n",
    "\n",
    "For car A, the expected forward move for each turn is 10% * 5 = .5 feet. With that, car A is expected to travel 100 feet in 100/.5 = 200 turns.\n",
    "\n",
    "For car B, the expected forward move is .6 feet and car b is expected to travel 100 feet in ~167 turns.\n",
    "\n",
    "A rough estimate would be just to say that B should win 167/200 = 83.5% of the time given their relative \"speed\".\n",
    "\n",
    "For some reason, I got really stuck on this example in finding the exact mathematical solution to this problem. Maybe this is overcomplicating it but my first thought was to look at the ratio of the Bernoulli distributions. I was thinking that to get the exact result we would want to look at the ratio of the bernoulli probability mass functions with k = 20 successes, and probability of success p = .1 for car A and 100 sucesses, p =.6 for car B. \n",
    "\n",
    "$P(X = k)  = \\binom{n}{k} * p^k * (p-1)^{(n-k)} $\n",
    "\n",
    "So I wanted to solve \n",
    "$ \\dfrac {Prob_B(X=100)} {Prob_A(X=20)}$ with the number of trials n being unknown but equal in both equations. Unfortunately this does not simplify and n does not drop off. \n",
    "\n",
    "The other idea I have is to look at a poisson distribution where the period is an unknown n number of steps. With n being defined as the number of steps until one of the cars wins. The lambda for each car would then be $n*p$ (number of trials times probability of forward move) and we would look at the ratio of winning probabilities where car A hit 20 sucesses or car B hit 100 successes in this period of n steps. In this case we have the following ratio: \n",
    "\n",
    "$ \\dfrac {P_b(X=100)} {P_a(X=20)} = \\dfrac {\\dfrac {(.6*n)^{100}*e^{-.6*n}} {100!}}{\\dfrac {(.1*n)^{20}*e^{-.1*n}} {20!}}$ \n",
    "\n",
    "Both of these ratios should be the same so I am guessing it is possible to derive the n from these two equations by setting them equal to each other and finding n which would be the expected number of steps for one of the cars to win the race. From there I could look at the ratio of probabilities of winning based on either the poisson or bernoulli probabilities. I am moving on in the interest of time but I will have to take a look at this problem closer.\n",
    "\n",
    "Onto the simulation:"
   ]
  },
  {
   "cell_type": "code",
   "execution_count": 5,
   "metadata": {
    "collapsed": true
   },
   "outputs": [],
   "source": [
    "class racer(object):\n",
    "    def __init__(self, prob, step, pos = 0):\n",
    "        \"\"\"Return a racer object whose probability distribution of go forward / stay still is a tuple 'prob',\n",
    "        the step size is 'step', and the initial position 'pos' is by default set to 0\"\"\"\n",
    "        self.prob = prob\n",
    "        self.step = step\n",
    "        self.pos = pos\n",
    "        \n",
    "    def turn(self):\n",
    "        \"\"\"draw a \"stay still\" (0) or \"go forward\" (1) according to the probability vector and update position\"\"\"\n",
    "        self.pos += self.step * np.random.choice([0,1], 1, p = self.prob)\n",
    "        \n",
    "    def win(self):\n",
    "        \"\"\"flag true if won\"\"\"\n",
    "        if self.pos >=100:\n",
    "            return True"
   ]
  },
  {
   "cell_type": "code",
   "execution_count": 6,
   "metadata": {
    "collapsed": false
   },
   "outputs": [],
   "source": [
    "def raceAB():\n",
    "    \n",
    "    ''' initializes two racers and simulates one race returning the winner or a tie'''\n",
    "    a = racer(prob = [.9, .1], step = 5)\n",
    "    b = racer(prob = [.4, .6], step = 1)\n",
    "    \n",
    "    while not (a.win() or b.win()):\n",
    "        a.turn()\n",
    "        b.turn()\n",
    "    if (a.win() and b.win()):\n",
    "        return \"tie\"\n",
    "    elif a.win():\n",
    "        return \"a\"\n",
    "    elif b.win():\n",
    "        return \"b\"\n"
   ]
  },
  {
   "cell_type": "code",
   "execution_count": 7,
   "metadata": {
    "collapsed": false,
    "scrolled": false
   },
   "outputs": [
    {
     "data": {
      "text/plain": [
       "b    85\n",
       "a    15\n",
       "dtype: int64"
      ]
     },
     "execution_count": 7,
     "metadata": {},
     "output_type": "execute_result"
    }
   ],
   "source": [
    "import pandas as pd\n",
    "results = pd.Series([raceAB() for i in range(100)])\n",
    "results.value_counts()\n",
    "\n"
   ]
  },
  {
   "cell_type": "markdown",
   "metadata": {},
   "source": [
    "This result is close what I expected with the rough approximation but running larger number of races seems to suggests that the true ratio is around 75/25. I imagine the standard deviation of results is very high given the 5 step size. I am moving on in the interest of time but will take a closer look at this one when I have an opportunity."
   ]
  },
  {
   "cell_type": "markdown",
   "metadata": {},
   "source": [
    "#### Problem 5: \n",
    "\n",
    "A company provides following information about number of meetings in a conference room with 3, 4, 5, 6 and 7 employees. \n",
    "\n",
    "\n",
    "$\n",
    "#Attendees\n",
    "3\n",
    "4\n",
    "5\n",
    "6\n",
    "7\n",
    "$\n",
    "$\n",
    "#Frequency\n",
    "50\n",
    "45\n",
    "60\n",
    "80\n",
    "55\n",
    "$\n",
    "\n",
    "\n",
    "What is the mean and median of number of employees attending a meeting?  If you were to build TWO conference rooms to accommodate employees, what would be the size of each room? (Assume that a room of size x can accommodate at most x employees. Please specify any other assumptions you make regarding costs and scheduling to solve the problem.) \n"
   ]
  },
  {
   "cell_type": "markdown",
   "metadata": {},
   "source": [
    "#### Answer: "
   ]
  },
  {
   "cell_type": "code",
   "execution_count": 8,
   "metadata": {
    "collapsed": false
   },
   "outputs": [
    {
     "name": "stdout",
     "output_type": "stream",
     "text": [
      "Mean is: 5.16\n",
      "Median is: 4\n"
     ]
    }
   ],
   "source": [
    "att = [3,4,5,6,7]\n",
    "freq = [50,45,60,80,55]\n",
    "total_meetings = sum(freq)\n",
    "\n",
    "total_people = reduce(lambda s, (x, y): s+ x*y, zip(att,freq) , 0)\n",
    "\n",
    "mean = total_people/float(total_meetings)\n",
    "print \"Mean is: %.02f\" % mean\n",
    "\n",
    "total_meetings_mid = total_meetings/2.0\n",
    "\n",
    "\n",
    "cumulative_meetings =  pd.DataFrame({\"meetings\":freq}, index = att).cumsum()\n",
    "\n",
    "median = cumulative_meetings.index[cumulative_meetings.meetings < total_meetings_mid][-1]\n",
    "#just a quick median find given this distribution not a comprehensive median function\n",
    "\n",
    "print \"Median is: %i\" %median"
   ]
  },
  {
   "cell_type": "markdown",
   "metadata": {},
   "source": [
    "The second part is an optimization problem that requires a couple of assumptions. It is obvious that the first room has to be size 7 to accomodate the 7 person meetings. So the question becomes then about what size to make the second room to minimize cost but maximize utility measured by availatility of a suitable room.\n",
    "\n",
    "1. Schedule efficiently, so a 4 person meeting will be scheduled to the 4 person room if a 6 person room is also available.\n",
    "2. Meetings are a random draw from the frequency table provided. Draws are independent of each other, so if a 7 person meeting is booked to a certain time, there is the same chance of another 7 person meeting being requested for the same time.\n",
    "3. Cost of running a meeting room is proportional to size. So a 6 person room is twice as expensive as a 3 person room.\n",
    "4. Up front building costs are ignored.\n",
    "\n",
    "Given the discrete nature of the problem, it is not necessary to go the full Lagrange optimization routine. It seems obvious to build a utility function to maximize based on some measures of occupancy rate and cost. Since I assume that the first room is going to have capacity 7. I know that the first meeting for any given time slot will be able to be booked. For the same time slot, whether the second meeting would be booked or not depends on if the size of the meeting is smaller than or equal to the size of the second room. Therefore, the chance of the second meeting being booked is cumulative probability of the attendance being smaller than capacity. I will use that as my \"full_rate\" variable. For cost, I subtract the percentage of the maximum cost that the 2 room arrangement is utilizing. The maximum cost here is 14 for two 7 person meeting rooms.\n"
   ]
  },
  {
   "cell_type": "code",
   "execution_count": 9,
   "metadata": {
    "collapsed": false
   },
   "outputs": [
    {
     "data": {
      "text/html": [
       "<div>\n",
       "<table border=\"1\" class=\"dataframe\">\n",
       "  <thead>\n",
       "    <tr style=\"text-align: right;\">\n",
       "      <th></th>\n",
       "      <th>capacity</th>\n",
       "      <th>cost</th>\n",
       "      <th>meetings</th>\n",
       "      <th>prob</th>\n",
       "      <th>full_rate</th>\n",
       "      <th>cost_rate</th>\n",
       "      <th>utility</th>\n",
       "    </tr>\n",
       "  </thead>\n",
       "  <tbody>\n",
       "    <tr>\n",
       "      <th>0</th>\n",
       "      <td>3</td>\n",
       "      <td>3</td>\n",
       "      <td>50</td>\n",
       "      <td>0.172414</td>\n",
       "      <td>0.172414</td>\n",
       "      <td>0.714286</td>\n",
       "      <td>-0.541872</td>\n",
       "    </tr>\n",
       "    <tr>\n",
       "      <th>1</th>\n",
       "      <td>4</td>\n",
       "      <td>4</td>\n",
       "      <td>45</td>\n",
       "      <td>0.155172</td>\n",
       "      <td>0.327586</td>\n",
       "      <td>0.785714</td>\n",
       "      <td>-0.458128</td>\n",
       "    </tr>\n",
       "    <tr>\n",
       "      <th>2</th>\n",
       "      <td>5</td>\n",
       "      <td>5</td>\n",
       "      <td>60</td>\n",
       "      <td>0.206897</td>\n",
       "      <td>0.534483</td>\n",
       "      <td>0.857143</td>\n",
       "      <td>-0.322660</td>\n",
       "    </tr>\n",
       "    <tr>\n",
       "      <th>3</th>\n",
       "      <td>6</td>\n",
       "      <td>6</td>\n",
       "      <td>80</td>\n",
       "      <td>0.275862</td>\n",
       "      <td>0.810345</td>\n",
       "      <td>0.928571</td>\n",
       "      <td>-0.118227</td>\n",
       "    </tr>\n",
       "    <tr>\n",
       "      <th>4</th>\n",
       "      <td>7</td>\n",
       "      <td>7</td>\n",
       "      <td>55</td>\n",
       "      <td>0.189655</td>\n",
       "      <td>1.000000</td>\n",
       "      <td>1.000000</td>\n",
       "      <td>0.000000</td>\n",
       "    </tr>\n",
       "  </tbody>\n",
       "</table>\n",
       "</div>"
      ],
      "text/plain": [
       "   capacity  cost  meetings      prob  full_rate  cost_rate   utility\n",
       "0         3     3        50  0.172414   0.172414   0.714286 -0.541872\n",
       "1         4     4        45  0.155172   0.327586   0.785714 -0.458128\n",
       "2         5     5        60  0.206897   0.534483   0.857143 -0.322660\n",
       "3         6     6        80  0.275862   0.810345   0.928571 -0.118227\n",
       "4         7     7        55  0.189655   1.000000   1.000000  0.000000"
      ]
     },
     "execution_count": 9,
     "metadata": {},
     "output_type": "execute_result"
    }
   ],
   "source": [
    "room_probs = pd.DataFrame({\"capacity\" : att, \"cost\" : att, \"meetings\":freq, \"prob\": np.array(freq)/float(sum(freq))})\n",
    "max_rate = 7\n",
    "alpha = 1 # a linear weight assigned to express the importance of cost versus full_rate variables in the model\n",
    "\n",
    "room_probs[\"full_rate\"] = room_probs.prob.cumsum()\n",
    "room_probs[\"cost_rate\"] = (room_probs.cost + max_rate) / (max_rate*2)\n",
    "room_probs[\"utility\"] = room_probs.full_rate - room_probs.cost_rate * alpha\n",
    "room_probs"
   ]
  },
  {
   "cell_type": "markdown",
   "metadata": {},
   "source": [
    "In this rather simplistic example the two 7 person rooms maximize the utility. However, in this case occupancy and cost are weighed equally (alpha =1). If for example, occupancy rate is not that important relative to cost (for example, it is rare that people try to schedule for the same time and it is easy to just re-schedule) the result could be quite different. "
   ]
  },
  {
   "cell_type": "code",
   "execution_count": 10,
   "metadata": {
    "collapsed": false
   },
   "outputs": [
    {
     "data": {
      "text/html": [
       "<div>\n",
       "<table border=\"1\" class=\"dataframe\">\n",
       "  <thead>\n",
       "    <tr style=\"text-align: right;\">\n",
       "      <th></th>\n",
       "      <th>capacity</th>\n",
       "      <th>cost</th>\n",
       "      <th>meetings</th>\n",
       "      <th>prob</th>\n",
       "      <th>full_rate</th>\n",
       "      <th>cost_rate</th>\n",
       "      <th>utility</th>\n",
       "    </tr>\n",
       "  </thead>\n",
       "  <tbody>\n",
       "    <tr>\n",
       "      <th>0</th>\n",
       "      <td>3</td>\n",
       "      <td>3</td>\n",
       "      <td>50</td>\n",
       "      <td>0.172414</td>\n",
       "      <td>0.172414</td>\n",
       "      <td>0.714286</td>\n",
       "      <td>-1.970443</td>\n",
       "    </tr>\n",
       "    <tr>\n",
       "      <th>1</th>\n",
       "      <td>4</td>\n",
       "      <td>4</td>\n",
       "      <td>45</td>\n",
       "      <td>0.155172</td>\n",
       "      <td>0.327586</td>\n",
       "      <td>0.785714</td>\n",
       "      <td>-2.029557</td>\n",
       "    </tr>\n",
       "    <tr>\n",
       "      <th>2</th>\n",
       "      <td>5</td>\n",
       "      <td>5</td>\n",
       "      <td>60</td>\n",
       "      <td>0.206897</td>\n",
       "      <td>0.534483</td>\n",
       "      <td>0.857143</td>\n",
       "      <td>-2.036946</td>\n",
       "    </tr>\n",
       "    <tr>\n",
       "      <th>3</th>\n",
       "      <td>6</td>\n",
       "      <td>6</td>\n",
       "      <td>80</td>\n",
       "      <td>0.275862</td>\n",
       "      <td>0.810345</td>\n",
       "      <td>0.928571</td>\n",
       "      <td>-1.975369</td>\n",
       "    </tr>\n",
       "    <tr>\n",
       "      <th>4</th>\n",
       "      <td>7</td>\n",
       "      <td>7</td>\n",
       "      <td>55</td>\n",
       "      <td>0.189655</td>\n",
       "      <td>1.000000</td>\n",
       "      <td>1.000000</td>\n",
       "      <td>-2.000000</td>\n",
       "    </tr>\n",
       "  </tbody>\n",
       "</table>\n",
       "</div>"
      ],
      "text/plain": [
       "   capacity  cost  meetings      prob  full_rate  cost_rate   utility\n",
       "0         3     3        50  0.172414   0.172414   0.714286 -1.970443\n",
       "1         4     4        45  0.155172   0.327586   0.785714 -2.029557\n",
       "2         5     5        60  0.206897   0.534483   0.857143 -2.036946\n",
       "3         6     6        80  0.275862   0.810345   0.928571 -1.975369\n",
       "4         7     7        55  0.189655   1.000000   1.000000 -2.000000"
      ]
     },
     "execution_count": 10,
     "metadata": {},
     "output_type": "execute_result"
    }
   ],
   "source": [
    "alpha = 3\n",
    "room_probs[\"utility\"] = room_probs.full_rate - room_probs.cost_rate * alpha\n",
    "room_probs\n"
   ]
  },
  {
   "cell_type": "markdown",
   "metadata": {},
   "source": [
    "In this example, a 6 or 3 person room is best with the 3 person room being actually slightly better due to the lower cost."
   ]
  },
  {
   "cell_type": "markdown",
   "metadata": {},
   "source": [
    "Even in this simple example results would depend on the definition of the utility function. The weights expressing relative importance could be exponential. Cost itself can have a non-linear relationship to capacity which would also change the result. If for example there was a 3 tiered cost structure we would have the below where the 6 person room would be the best pick."
   ]
  },
  {
   "cell_type": "code",
   "execution_count": 11,
   "metadata": {
    "collapsed": false
   },
   "outputs": [
    {
     "data": {
      "text/html": [
       "<div>\n",
       "<table border=\"1\" class=\"dataframe\">\n",
       "  <thead>\n",
       "    <tr style=\"text-align: right;\">\n",
       "      <th></th>\n",
       "      <th>capacity</th>\n",
       "      <th>cost</th>\n",
       "      <th>meetings</th>\n",
       "      <th>prob</th>\n",
       "      <th>full_rate</th>\n",
       "      <th>cost_rate</th>\n",
       "      <th>utility</th>\n",
       "    </tr>\n",
       "  </thead>\n",
       "  <tbody>\n",
       "    <tr>\n",
       "      <th>0</th>\n",
       "      <td>3</td>\n",
       "      <td>1</td>\n",
       "      <td>50</td>\n",
       "      <td>0.172414</td>\n",
       "      <td>0.172414</td>\n",
       "      <td>0.55</td>\n",
       "      <td>-0.377586</td>\n",
       "    </tr>\n",
       "    <tr>\n",
       "      <th>1</th>\n",
       "      <td>4</td>\n",
       "      <td>5</td>\n",
       "      <td>45</td>\n",
       "      <td>0.155172</td>\n",
       "      <td>0.327586</td>\n",
       "      <td>0.75</td>\n",
       "      <td>-0.422414</td>\n",
       "    </tr>\n",
       "    <tr>\n",
       "      <th>2</th>\n",
       "      <td>5</td>\n",
       "      <td>5</td>\n",
       "      <td>60</td>\n",
       "      <td>0.206897</td>\n",
       "      <td>0.534483</td>\n",
       "      <td>0.75</td>\n",
       "      <td>-0.215517</td>\n",
       "    </tr>\n",
       "    <tr>\n",
       "      <th>3</th>\n",
       "      <td>6</td>\n",
       "      <td>5</td>\n",
       "      <td>80</td>\n",
       "      <td>0.275862</td>\n",
       "      <td>0.810345</td>\n",
       "      <td>0.75</td>\n",
       "      <td>0.060345</td>\n",
       "    </tr>\n",
       "    <tr>\n",
       "      <th>4</th>\n",
       "      <td>7</td>\n",
       "      <td>10</td>\n",
       "      <td>55</td>\n",
       "      <td>0.189655</td>\n",
       "      <td>1.000000</td>\n",
       "      <td>1.00</td>\n",
       "      <td>0.000000</td>\n",
       "    </tr>\n",
       "  </tbody>\n",
       "</table>\n",
       "</div>"
      ],
      "text/plain": [
       "   capacity  cost  meetings      prob  full_rate  cost_rate   utility\n",
       "0         3     1        50  0.172414   0.172414       0.55 -0.377586\n",
       "1         4     5        45  0.155172   0.327586       0.75 -0.422414\n",
       "2         5     5        60  0.206897   0.534483       0.75 -0.215517\n",
       "3         6     5        80  0.275862   0.810345       0.75  0.060345\n",
       "4         7    10        55  0.189655   1.000000       1.00  0.000000"
      ]
     },
     "execution_count": 11,
     "metadata": {},
     "output_type": "execute_result"
    }
   ],
   "source": [
    "max_rate = 10\n",
    "alpha = 1\n",
    "room_probs.cost = [1,5,5,5,max_rate]\n",
    "room_probs[\"cost_rate\"] = (room_probs.cost + max_rate) / (max_rate*2)\n",
    "room_probs[\"utility\"] = room_probs.full_rate - room_probs.cost_rate * alpha\n",
    "room_probs"
   ]
  }
 ],
 "metadata": {
  "anaconda-cloud": {},
  "kernelspec": {
   "display_name": "Python [Root]",
   "language": "python",
   "name": "Python [Root]"
  },
  "language_info": {
   "codemirror_mode": {
    "name": "ipython",
    "version": 2
   },
   "file_extension": ".py",
   "mimetype": "text/x-python",
   "name": "python",
   "nbconvert_exporter": "python",
   "pygments_lexer": "ipython2",
   "version": "2.7.12"
  }
 },
 "nbformat": 4,
 "nbformat_minor": 0
}
